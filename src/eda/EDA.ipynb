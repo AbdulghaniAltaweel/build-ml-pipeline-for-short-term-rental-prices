{
 "cells": [
  {
   "cell_type": "markdown",
   "id": "90479a77-22ce-4eb2-9f1a-a8cc4f0f581f",
   "metadata": {},
   "source": [
    "# EDA"
   ]
  },
  {
   "cell_type": "code",
   "execution_count": 1,
   "id": "559b4e72-2ee5-4165-ad8d-41761d6076c6",
   "metadata": {},
   "outputs": [],
   "source": [
    "import wandb\n",
    "import pandas as pd\n",
    "import ydata_profiling"
   ]
  },
  {
   "cell_type": "code",
   "execution_count": 2,
   "id": "198157bf-91ee-4d8a-a807-df22b25ec43b",
   "metadata": {},
   "outputs": [
    {
     "name": "stderr",
     "output_type": "stream",
     "text": [
      "\u001b[34m\u001b[1mwandb\u001b[0m: Currently logged in as: \u001b[33mabd_gt\u001b[0m. Use \u001b[1m`wandb login --relogin`\u001b[0m to force relogin\n"
     ]
    },
    {
     "data": {
      "text/html": [
       "wandb version 0.17.0 is available!  To upgrade, please run:\n",
       " $ pip install wandb --upgrade"
      ],
      "text/plain": [
       "<IPython.core.display.HTML object>"
      ]
     },
     "metadata": {},
     "output_type": "display_data"
    },
    {
     "data": {
      "text/html": [
       "Tracking run with wandb version 0.16.0"
      ],
      "text/plain": [
       "<IPython.core.display.HTML object>"
      ]
     },
     "metadata": {},
     "output_type": "display_data"
    },
    {
     "data": {
      "text/html": [
       "Run data is saved locally in <code>/home/abdulghani/git/udacity/build-ml-pipeline-for-short-term-rental-prices/src/eda/wandb/run-20240521_012617-tw5khiif</code>"
      ],
      "text/plain": [
       "<IPython.core.display.HTML object>"
      ]
     },
     "metadata": {},
     "output_type": "display_data"
    },
    {
     "data": {
      "text/html": [
       "Syncing run <strong><a href='https://wandb.ai/abd_gt/nyc_airbnb/runs/tw5khiif' target=\"_blank\">light-breeze-11</a></strong> to <a href='https://wandb.ai/abd_gt/nyc_airbnb' target=\"_blank\">Weights & Biases</a> (<a href='https://wandb.me/run' target=\"_blank\">docs</a>)<br/>"
      ],
      "text/plain": [
       "<IPython.core.display.HTML object>"
      ]
     },
     "metadata": {},
     "output_type": "display_data"
    },
    {
     "data": {
      "text/html": [
       " View project at <a href='https://wandb.ai/abd_gt/nyc_airbnb' target=\"_blank\">https://wandb.ai/abd_gt/nyc_airbnb</a>"
      ],
      "text/plain": [
       "<IPython.core.display.HTML object>"
      ]
     },
     "metadata": {},
     "output_type": "display_data"
    },
    {
     "data": {
      "text/html": [
       " View run at <a href='https://wandb.ai/abd_gt/nyc_airbnb/runs/tw5khiif' target=\"_blank\">https://wandb.ai/abd_gt/nyc_airbnb/runs/tw5khiif</a>"
      ],
      "text/plain": [
       "<IPython.core.display.HTML object>"
      ]
     },
     "metadata": {},
     "output_type": "display_data"
    }
   ],
   "source": [
    "# Create wandb run\n",
    "run = wandb.init(project=\"nyc_airbnb\", group=\"eda\", save_code=True)"
   ]
  },
  {
   "cell_type": "markdown",
   "id": "08d5ae94-72ef-45eb-a7e7-0b8c1937904f",
   "metadata": {},
   "source": [
    "# Fetch The Artifact"
   ]
  },
  {
   "cell_type": "code",
   "execution_count": 3,
   "id": "905e0951-f72d-4204-b820-cfda039639bb",
   "metadata": {},
   "outputs": [],
   "source": [
    "# Fetch the artifact and assign it to dataframe\n",
    "local_path = wandb.use_artifact(\"sample.csv:latest\").file()\n",
    "df = pd.read_csv(local_path)"
   ]
  },
  {
   "cell_type": "markdown",
   "id": "b437fd22-65e5-41e7-84e2-18c1ca501e62",
   "metadata": {},
   "source": [
    "# Create Profile"
   ]
  },
  {
   "cell_type": "code",
   "execution_count": 4,
   "id": "dd5fb211-7c94-4143-a73d-aae8368d306d",
   "metadata": {},
   "outputs": [
    {
     "data": {
      "application/vnd.jupyter.widget-view+json": {
       "model_id": "870cbc5977584829b3908099f53cf9c4",
       "version_major": 2,
       "version_minor": 0
      },
      "text/plain": [
       "Summarize dataset:   0%|          | 0/5 [00:00<?, ?it/s]"
      ]
     },
     "metadata": {},
     "output_type": "display_data"
    },
    {
     "name": "stderr",
     "output_type": "stream",
     "text": [
      "/home/abdulghani/other-apps/anaconda3/envs/mlflow-13c9ac80173e17219611f6c88bb522fdc542dc1f/lib/python3.10/site-packages/ydata_profiling/model/typeset.py:208: FutureWarning: is_categorical_dtype is deprecated and will be removed in a future version. Use isinstance(dtype, CategoricalDtype) instead\n",
      "  is_valid_dtype = pdt.is_categorical_dtype(series) and not pdt.is_bool_dtype(\n",
      "/home/abdulghani/other-apps/anaconda3/envs/mlflow-13c9ac80173e17219611f6c88bb522fdc542dc1f/lib/python3.10/site-packages/ydata_profiling/model/typeset.py:125: FutureWarning: is_categorical_dtype is deprecated and will be removed in a future version. Use isinstance(dtype, CategoricalDtype) instead\n",
      "  not pdt.is_categorical_dtype(series)\n",
      "/home/abdulghani/other-apps/anaconda3/envs/mlflow-13c9ac80173e17219611f6c88bb522fdc542dc1f/lib/python3.10/site-packages/ydata_profiling/model/typeset.py:208: FutureWarning: is_categorical_dtype is deprecated and will be removed in a future version. Use isinstance(dtype, CategoricalDtype) instead\n",
      "  is_valid_dtype = pdt.is_categorical_dtype(series) and not pdt.is_bool_dtype(\n",
      "/home/abdulghani/other-apps/anaconda3/envs/mlflow-13c9ac80173e17219611f6c88bb522fdc542dc1f/lib/python3.10/site-packages/ydata_profiling/model/typeset.py:125: FutureWarning: is_categorical_dtype is deprecated and will be removed in a future version. Use isinstance(dtype, CategoricalDtype) instead\n",
      "  not pdt.is_categorical_dtype(series)\n",
      "/home/abdulghani/other-apps/anaconda3/envs/mlflow-13c9ac80173e17219611f6c88bb522fdc542dc1f/lib/python3.10/site-packages/ydata_profiling/model/typeset_relations.py:34: FutureWarning: is_categorical_dtype is deprecated and will be removed in a future version. Use isinstance(dtype, CategoricalDtype) instead\n",
      "  if pdt.is_categorical_dtype(series):\n",
      "/home/abdulghani/other-apps/anaconda3/envs/mlflow-13c9ac80173e17219611f6c88bb522fdc542dc1f/lib/python3.10/site-packages/ydata_profiling/model/typeset.py:208: FutureWarning: is_categorical_dtype is deprecated and will be removed in a future version. Use isinstance(dtype, CategoricalDtype) instead\n",
      "  is_valid_dtype = pdt.is_categorical_dtype(series) and not pdt.is_bool_dtype(\n",
      "/home/abdulghani/other-apps/anaconda3/envs/mlflow-13c9ac80173e17219611f6c88bb522fdc542dc1f/lib/python3.10/site-packages/ydata_profiling/model/typeset.py:125: FutureWarning: is_categorical_dtype is deprecated and will be removed in a future version. Use isinstance(dtype, CategoricalDtype) instead\n",
      "  not pdt.is_categorical_dtype(series)\n",
      "/home/abdulghani/other-apps/anaconda3/envs/mlflow-13c9ac80173e17219611f6c88bb522fdc542dc1f/lib/python3.10/site-packages/ydata_profiling/model/typeset_relations.py:34: FutureWarning: is_categorical_dtype is deprecated and will be removed in a future version. Use isinstance(dtype, CategoricalDtype) instead\n",
      "  if pdt.is_categorical_dtype(series):\n",
      "/home/abdulghani/other-apps/anaconda3/envs/mlflow-13c9ac80173e17219611f6c88bb522fdc542dc1f/lib/python3.10/site-packages/ydata_profiling/model/typeset.py:208: FutureWarning: is_categorical_dtype is deprecated and will be removed in a future version. Use isinstance(dtype, CategoricalDtype) instead\n",
      "  is_valid_dtype = pdt.is_categorical_dtype(series) and not pdt.is_bool_dtype(\n",
      "/home/abdulghani/other-apps/anaconda3/envs/mlflow-13c9ac80173e17219611f6c88bb522fdc542dc1f/lib/python3.10/site-packages/ydata_profiling/model/typeset.py:125: FutureWarning: is_categorical_dtype is deprecated and will be removed in a future version. Use isinstance(dtype, CategoricalDtype) instead\n",
      "  not pdt.is_categorical_dtype(series)\n",
      "/home/abdulghani/other-apps/anaconda3/envs/mlflow-13c9ac80173e17219611f6c88bb522fdc542dc1f/lib/python3.10/site-packages/ydata_profiling/model/typeset_relations.py:34: FutureWarning: is_categorical_dtype is deprecated and will be removed in a future version. Use isinstance(dtype, CategoricalDtype) instead\n",
      "  if pdt.is_categorical_dtype(series):\n",
      "/home/abdulghani/other-apps/anaconda3/envs/mlflow-13c9ac80173e17219611f6c88bb522fdc542dc1f/lib/python3.10/site-packages/ydata_profiling/model/typeset_relations.py:34: FutureWarning: is_categorical_dtype is deprecated and will be removed in a future version. Use isinstance(dtype, CategoricalDtype) instead\n",
      "  if pdt.is_categorical_dtype(series):\n",
      "/home/abdulghani/other-apps/anaconda3/envs/mlflow-13c9ac80173e17219611f6c88bb522fdc542dc1f/lib/python3.10/site-packages/ydata_profiling/model/typeset.py:208: FutureWarning: is_categorical_dtype is deprecated and will be removed in a future version. Use isinstance(dtype, CategoricalDtype) instead\n",
      "  is_valid_dtype = pdt.is_categorical_dtype(series) and not pdt.is_bool_dtype(\n",
      "/home/abdulghani/other-apps/anaconda3/envs/mlflow-13c9ac80173e17219611f6c88bb522fdc542dc1f/lib/python3.10/site-packages/ydata_profiling/model/typeset.py:125: FutureWarning: is_categorical_dtype is deprecated and will be removed in a future version. Use isinstance(dtype, CategoricalDtype) instead\n",
      "  not pdt.is_categorical_dtype(series)\n",
      "/home/abdulghani/other-apps/anaconda3/envs/mlflow-13c9ac80173e17219611f6c88bb522fdc542dc1f/lib/python3.10/site-packages/ydata_profiling/model/typeset.py:208: FutureWarning: is_categorical_dtype is deprecated and will be removed in a future version. Use isinstance(dtype, CategoricalDtype) instead\n",
      "  is_valid_dtype = pdt.is_categorical_dtype(series) and not pdt.is_bool_dtype(\n",
      "/home/abdulghani/other-apps/anaconda3/envs/mlflow-13c9ac80173e17219611f6c88bb522fdc542dc1f/lib/python3.10/site-packages/ydata_profiling/model/typeset.py:125: FutureWarning: is_categorical_dtype is deprecated and will be removed in a future version. Use isinstance(dtype, CategoricalDtype) instead\n",
      "  not pdt.is_categorical_dtype(series)\n",
      "/home/abdulghani/other-apps/anaconda3/envs/mlflow-13c9ac80173e17219611f6c88bb522fdc542dc1f/lib/python3.10/site-packages/ydata_profiling/model/typeset_relations.py:34: FutureWarning: is_categorical_dtype is deprecated and will be removed in a future version. Use isinstance(dtype, CategoricalDtype) instead\n",
      "  if pdt.is_categorical_dtype(series):\n",
      "/home/abdulghani/other-apps/anaconda3/envs/mlflow-13c9ac80173e17219611f6c88bb522fdc542dc1f/lib/python3.10/site-packages/ydata_profiling/model/typeset.py:208: FutureWarning: is_categorical_dtype is deprecated and will be removed in a future version. Use isinstance(dtype, CategoricalDtype) instead\n",
      "  is_valid_dtype = pdt.is_categorical_dtype(series) and not pdt.is_bool_dtype(\n",
      "/home/abdulghani/other-apps/anaconda3/envs/mlflow-13c9ac80173e17219611f6c88bb522fdc542dc1f/lib/python3.10/site-packages/ydata_profiling/model/typeset.py:125: FutureWarning: is_categorical_dtype is deprecated and will be removed in a future version. Use isinstance(dtype, CategoricalDtype) instead\n",
      "  not pdt.is_categorical_dtype(series)\n",
      "/home/abdulghani/other-apps/anaconda3/envs/mlflow-13c9ac80173e17219611f6c88bb522fdc542dc1f/lib/python3.10/site-packages/ydata_profiling/model/typeset_relations.py:34: FutureWarning: is_categorical_dtype is deprecated and will be removed in a future version. Use isinstance(dtype, CategoricalDtype) instead\n",
      "  if pdt.is_categorical_dtype(series):\n",
      "/home/abdulghani/other-apps/anaconda3/envs/mlflow-13c9ac80173e17219611f6c88bb522fdc542dc1f/lib/python3.10/site-packages/ydata_profiling/model/typeset.py:208: FutureWarning: is_categorical_dtype is deprecated and will be removed in a future version. Use isinstance(dtype, CategoricalDtype) instead\n",
      "  is_valid_dtype = pdt.is_categorical_dtype(series) and not pdt.is_bool_dtype(\n",
      "/home/abdulghani/other-apps/anaconda3/envs/mlflow-13c9ac80173e17219611f6c88bb522fdc542dc1f/lib/python3.10/site-packages/ydata_profiling/model/typeset.py:125: FutureWarning: is_categorical_dtype is deprecated and will be removed in a future version. Use isinstance(dtype, CategoricalDtype) instead\n",
      "  not pdt.is_categorical_dtype(series)\n",
      "/home/abdulghani/other-apps/anaconda3/envs/mlflow-13c9ac80173e17219611f6c88bb522fdc542dc1f/lib/python3.10/site-packages/ydata_profiling/model/typeset.py:208: FutureWarning: is_categorical_dtype is deprecated and will be removed in a future version. Use isinstance(dtype, CategoricalDtype) instead\n",
      "  is_valid_dtype = pdt.is_categorical_dtype(series) and not pdt.is_bool_dtype(\n",
      "/home/abdulghani/other-apps/anaconda3/envs/mlflow-13c9ac80173e17219611f6c88bb522fdc542dc1f/lib/python3.10/site-packages/ydata_profiling/model/typeset.py:125: FutureWarning: is_categorical_dtype is deprecated and will be removed in a future version. Use isinstance(dtype, CategoricalDtype) instead\n",
      "  not pdt.is_categorical_dtype(series)\n",
      "/home/abdulghani/other-apps/anaconda3/envs/mlflow-13c9ac80173e17219611f6c88bb522fdc542dc1f/lib/python3.10/site-packages/ydata_profiling/model/typeset_relations.py:34: FutureWarning: is_categorical_dtype is deprecated and will be removed in a future version. Use isinstance(dtype, CategoricalDtype) instead\n",
      "  if pdt.is_categorical_dtype(series):\n",
      "/home/abdulghani/other-apps/anaconda3/envs/mlflow-13c9ac80173e17219611f6c88bb522fdc542dc1f/lib/python3.10/site-packages/ydata_profiling/model/typeset_relations.py:34: FutureWarning: is_categorical_dtype is deprecated and will be removed in a future version. Use isinstance(dtype, CategoricalDtype) instead\n",
      "  if pdt.is_categorical_dtype(series):\n",
      "/home/abdulghani/other-apps/anaconda3/envs/mlflow-13c9ac80173e17219611f6c88bb522fdc542dc1f/lib/python3.10/site-packages/ydata_profiling/model/typeset.py:208: FutureWarning: is_categorical_dtype is deprecated and will be removed in a future version. Use isinstance(dtype, CategoricalDtype) instead\n",
      "  is_valid_dtype = pdt.is_categorical_dtype(series) and not pdt.is_bool_dtype(\n",
      "/home/abdulghani/other-apps/anaconda3/envs/mlflow-13c9ac80173e17219611f6c88bb522fdc542dc1f/lib/python3.10/site-packages/ydata_profiling/model/typeset.py:125: FutureWarning: is_categorical_dtype is deprecated and will be removed in a future version. Use isinstance(dtype, CategoricalDtype) instead\n",
      "  not pdt.is_categorical_dtype(series)\n",
      "/home/abdulghani/other-apps/anaconda3/envs/mlflow-13c9ac80173e17219611f6c88bb522fdc542dc1f/lib/python3.10/site-packages/ydata_profiling/model/typeset.py:208: FutureWarning: is_categorical_dtype is deprecated and will be removed in a future version. Use isinstance(dtype, CategoricalDtype) instead\n",
      "  is_valid_dtype = pdt.is_categorical_dtype(series) and not pdt.is_bool_dtype(\n",
      "/home/abdulghani/other-apps/anaconda3/envs/mlflow-13c9ac80173e17219611f6c88bb522fdc542dc1f/lib/python3.10/site-packages/ydata_profiling/model/typeset.py:208: FutureWarning: is_categorical_dtype is deprecated and will be removed in a future version. Use isinstance(dtype, CategoricalDtype) instead\n",
      "  is_valid_dtype = pdt.is_categorical_dtype(series) and not pdt.is_bool_dtype(\n",
      "/home/abdulghani/other-apps/anaconda3/envs/mlflow-13c9ac80173e17219611f6c88bb522fdc542dc1f/lib/python3.10/site-packages/ydata_profiling/model/typeset.py:125: FutureWarning: is_categorical_dtype is deprecated and will be removed in a future version. Use isinstance(dtype, CategoricalDtype) instead\n",
      "  not pdt.is_categorical_dtype(series)\n",
      "/home/abdulghani/other-apps/anaconda3/envs/mlflow-13c9ac80173e17219611f6c88bb522fdc542dc1f/lib/python3.10/site-packages/ydata_profiling/model/typeset_relations.py:34: FutureWarning: is_categorical_dtype is deprecated and will be removed in a future version. Use isinstance(dtype, CategoricalDtype) instead\n",
      "  if pdt.is_categorical_dtype(series):\n",
      "/home/abdulghani/other-apps/anaconda3/envs/mlflow-13c9ac80173e17219611f6c88bb522fdc542dc1f/lib/python3.10/site-packages/ydata_profiling/model/typeset.py:208: FutureWarning: is_categorical_dtype is deprecated and will be removed in a future version. Use isinstance(dtype, CategoricalDtype) instead\n",
      "  is_valid_dtype = pdt.is_categorical_dtype(series) and not pdt.is_bool_dtype(\n",
      "/home/abdulghani/other-apps/anaconda3/envs/mlflow-13c9ac80173e17219611f6c88bb522fdc542dc1f/lib/python3.10/site-packages/ydata_profiling/model/typeset.py:125: FutureWarning: is_categorical_dtype is deprecated and will be removed in a future version. Use isinstance(dtype, CategoricalDtype) instead\n",
      "  not pdt.is_categorical_dtype(series)\n",
      "/home/abdulghani/other-apps/anaconda3/envs/mlflow-13c9ac80173e17219611f6c88bb522fdc542dc1f/lib/python3.10/site-packages/ydata_profiling/model/typeset_relations.py:34: FutureWarning: is_categorical_dtype is deprecated and will be removed in a future version. Use isinstance(dtype, CategoricalDtype) instead\n",
      "  if pdt.is_categorical_dtype(series):\n",
      "/home/abdulghani/other-apps/anaconda3/envs/mlflow-13c9ac80173e17219611f6c88bb522fdc542dc1f/lib/python3.10/site-packages/ydata_profiling/model/typeset.py:208: FutureWarning: is_categorical_dtype is deprecated and will be removed in a future version. Use isinstance(dtype, CategoricalDtype) instead\n",
      "  is_valid_dtype = pdt.is_categorical_dtype(series) and not pdt.is_bool_dtype(\n",
      "/home/abdulghani/other-apps/anaconda3/envs/mlflow-13c9ac80173e17219611f6c88bb522fdc542dc1f/lib/python3.10/site-packages/ydata_profiling/model/typeset.py:125: FutureWarning: is_categorical_dtype is deprecated and will be removed in a future version. Use isinstance(dtype, CategoricalDtype) instead\n",
      "  not pdt.is_categorical_dtype(series)\n",
      "/home/abdulghani/other-apps/anaconda3/envs/mlflow-13c9ac80173e17219611f6c88bb522fdc542dc1f/lib/python3.10/site-packages/ydata_profiling/model/typeset.py:208: FutureWarning: is_categorical_dtype is deprecated and will be removed in a future version. Use isinstance(dtype, CategoricalDtype) instead\n",
      "  is_valid_dtype = pdt.is_categorical_dtype(series) and not pdt.is_bool_dtype(\n",
      "/home/abdulghani/other-apps/anaconda3/envs/mlflow-13c9ac80173e17219611f6c88bb522fdc542dc1f/lib/python3.10/site-packages/ydata_profiling/model/typeset.py:125: FutureWarning: is_categorical_dtype is deprecated and will be removed in a future version. Use isinstance(dtype, CategoricalDtype) instead\n",
      "  not pdt.is_categorical_dtype(series)\n",
      "/home/abdulghani/other-apps/anaconda3/envs/mlflow-13c9ac80173e17219611f6c88bb522fdc542dc1f/lib/python3.10/site-packages/ydata_profiling/model/typeset.py:208: FutureWarning: is_categorical_dtype is deprecated and will be removed in a future version. Use isinstance(dtype, CategoricalDtype) instead\n",
      "  is_valid_dtype = pdt.is_categorical_dtype(series) and not pdt.is_bool_dtype(\n",
      "/home/abdulghani/other-apps/anaconda3/envs/mlflow-13c9ac80173e17219611f6c88bb522fdc542dc1f/lib/python3.10/site-packages/ydata_profiling/model/typeset.py:208: FutureWarning: is_categorical_dtype is deprecated and will be removed in a future version. Use isinstance(dtype, CategoricalDtype) instead\n",
      "  is_valid_dtype = pdt.is_categorical_dtype(series) and not pdt.is_bool_dtype(\n",
      "/home/abdulghani/other-apps/anaconda3/envs/mlflow-13c9ac80173e17219611f6c88bb522fdc542dc1f/lib/python3.10/site-packages/ydata_profiling/model/typeset.py:125: FutureWarning: is_categorical_dtype is deprecated and will be removed in a future version. Use isinstance(dtype, CategoricalDtype) instead\n",
      "  not pdt.is_categorical_dtype(series)\n",
      "/home/abdulghani/other-apps/anaconda3/envs/mlflow-13c9ac80173e17219611f6c88bb522fdc542dc1f/lib/python3.10/site-packages/ydata_profiling/model/typeset.py:208: FutureWarning: is_categorical_dtype is deprecated and will be removed in a future version. Use isinstance(dtype, CategoricalDtype) instead\n",
      "  is_valid_dtype = pdt.is_categorical_dtype(series) and not pdt.is_bool_dtype(\n",
      "/home/abdulghani/other-apps/anaconda3/envs/mlflow-13c9ac80173e17219611f6c88bb522fdc542dc1f/lib/python3.10/site-packages/ydata_profiling/model/typeset.py:125: FutureWarning: is_categorical_dtype is deprecated and will be removed in a future version. Use isinstance(dtype, CategoricalDtype) instead\n",
      "  not pdt.is_categorical_dtype(series)\n",
      "/home/abdulghani/other-apps/anaconda3/envs/mlflow-13c9ac80173e17219611f6c88bb522fdc542dc1f/lib/python3.10/site-packages/ydata_profiling/model/typeset.py:208: FutureWarning: is_categorical_dtype is deprecated and will be removed in a future version. Use isinstance(dtype, CategoricalDtype) instead\n",
      "  is_valid_dtype = pdt.is_categorical_dtype(series) and not pdt.is_bool_dtype(\n",
      "/home/abdulghani/other-apps/anaconda3/envs/mlflow-13c9ac80173e17219611f6c88bb522fdc542dc1f/lib/python3.10/site-packages/ydata_profiling/model/typeset.py:125: FutureWarning: is_categorical_dtype is deprecated and will be removed in a future version. Use isinstance(dtype, CategoricalDtype) instead\n",
      "  not pdt.is_categorical_dtype(series)\n",
      "/home/abdulghani/other-apps/anaconda3/envs/mlflow-13c9ac80173e17219611f6c88bb522fdc542dc1f/lib/python3.10/site-packages/ydata_profiling/model/correlations.py:66: UserWarning: There was an attempt to calculate the auto correlation, but this failed.\n",
      "To hide this warning, disable the calculation\n",
      "(using `df.profile_report(correlations={\"auto\": {\"calculate\": False}})`\n",
      "If this is problematic for your use case, please report this as an issue:\n",
      "https://github.com/ydataai/ydata-profiling/issues\n",
      "(include the error message: 'Function <code object pandas_auto_compute at 0x7f942d936ef0, file \"/home/abdulghani/other-apps/anaconda3/envs/mlflow-13c9ac80173e17219611f6c88bb522fdc542dc1f/lib/python3.10/site-packages/ydata_profiling/model/pandas/correlations_pandas.py\", line 164>')\n",
      "  warnings.warn(\n",
      "/home/abdulghani/other-apps/anaconda3/envs/mlflow-13c9ac80173e17219611f6c88bb522fdc542dc1f/lib/python3.10/site-packages/seaborn/matrix.py:260: FutureWarning: Format strings passed to MaskedConstant are ignored, but in future may error or produce different behavior\n",
      "  annotation = (\"{:\" + self.fmt + \"}\").format(val)\n",
      "/home/abdulghani/other-apps/anaconda3/envs/mlflow-13c9ac80173e17219611f6c88bb522fdc542dc1f/lib/python3.10/site-packages/ydata_profiling/model/missing.py:78: UserWarning: There was an attempt to generate the Heatmap missing values diagrams, but this failed.\n",
      "To hide this warning, disable the calculation\n",
      "(using `df.profile_report(missing_diagrams={\"Heatmap\": False}`)\n",
      "If this is problematic for your use case, please report this as an issue:\n",
      "https://github.com/ydataai/ydata-profiling/issues\n",
      "(include the error message: 'could not convert string to float: '--'')\n",
      "  warnings.warn(\n"
     ]
    },
    {
     "data": {
      "application/vnd.jupyter.widget-view+json": {
       "model_id": "09071d3bcd1f40c88692577f1b42861e",
       "version_major": 2,
       "version_minor": 0
      },
      "text/plain": [
       "Generate report structure:   0%|          | 0/1 [00:00<?, ?it/s]"
      ]
     },
     "metadata": {},
     "output_type": "display_data"
    },
    {
     "data": {
      "application/vnd.jupyter.widget-view+json": {
       "model_id": "",
       "version_major": 2,
       "version_minor": 0
      },
      "text/plain": [
       "Render widgets:   0%|          | 0/1 [00:00<?, ?it/s]"
      ]
     },
     "metadata": {},
     "output_type": "display_data"
    },
    {
     "data": {
      "application/vnd.jupyter.widget-view+json": {
       "model_id": "9191e2343f12435f9f241dc8a639d424",
       "version_major": 2,
       "version_minor": 0
      },
      "text/plain": [
       "VBox(children=(Tab(children=(Tab(children=(GridBox(children=(VBox(children=(GridspecLayout(children=(HTML(valu…"
      ]
     },
     "metadata": {},
     "output_type": "display_data"
    }
   ],
   "source": [
    "# Create pandas profile\n",
    "profile = ydata_profiling.ProfileReport(df)\n",
    "profile.to_widgets()"
   ]
  },
  {
   "cell_type": "markdown",
   "id": "2eeeeb78-ce28-4a2f-9b25-e78096c44e39",
   "metadata": {},
   "source": [
    "# Preprocess step"
   ]
  },
  {
   "cell_type": "code",
   "execution_count": 5,
   "id": "76fe5771-b801-4e1a-ba24-dac527e111d2",
   "metadata": {},
   "outputs": [],
   "source": [
    "# Drop outliers\n",
    "min_price = 10\n",
    "max_price = 350\n",
    "idx = df['price'].between(min_price, max_price)\n",
    "df = df[idx].copy()\n",
    "# Convert last_review to datetime\n",
    "df['last_review'] = pd.to_datetime(df['last_review'])"
   ]
  },
  {
   "cell_type": "code",
   "execution_count": 6,
   "id": "57b86edb-c173-4f28-8ef2-04fb7992aa9d",
   "metadata": {},
   "outputs": [
    {
     "name": "stdout",
     "output_type": "stream",
     "text": [
      "<class 'pandas.core.frame.DataFrame'>\n",
      "Index: 19001 entries, 0 to 19999\n",
      "Data columns (total 16 columns):\n",
      " #   Column                          Non-Null Count  Dtype         \n",
      "---  ------                          --------------  -----         \n",
      " 0   id                              19001 non-null  int64         \n",
      " 1   name                            18994 non-null  object        \n",
      " 2   host_id                         19001 non-null  int64         \n",
      " 3   host_name                       18993 non-null  object        \n",
      " 4   neighbourhood_group             19001 non-null  object        \n",
      " 5   neighbourhood                   19001 non-null  object        \n",
      " 6   latitude                        19001 non-null  float64       \n",
      " 7   longitude                       19001 non-null  float64       \n",
      " 8   room_type                       19001 non-null  object        \n",
      " 9   price                           19001 non-null  int64         \n",
      " 10  minimum_nights                  19001 non-null  int64         \n",
      " 11  number_of_reviews               19001 non-null  int64         \n",
      " 12  last_review                     15243 non-null  datetime64[ns]\n",
      " 13  reviews_per_month               15243 non-null  float64       \n",
      " 14  calculated_host_listings_count  19001 non-null  int64         \n",
      " 15  availability_365                19001 non-null  int64         \n",
      "dtypes: datetime64[ns](1), float64(3), int64(7), object(5)\n",
      "memory usage: 2.5+ MB\n"
     ]
    }
   ],
   "source": [
    "# Check the table after preprocessing\n",
    "df.info()"
   ]
  },
  {
   "cell_type": "code",
   "execution_count": null,
   "id": "5d6bd3d0-f410-4d44-a991-3cb27a835f4d",
   "metadata": {},
   "outputs": [
    {
     "data": {
      "application/vnd.jupyter.widget-view+json": {
       "model_id": "",
       "version_major": 2,
       "version_minor": 0
      },
      "text/plain": [
       "VBox(children=(Label(value='0.085 MB of 0.085 MB uploaded (0.027 MB deduped)\\r'), FloatProgress(value=1.0, max…"
      ]
     },
     "metadata": {},
     "output_type": "display_data"
    },
    {
     "data": {
      "text/html": [
       "W&B sync reduced upload amount by 18.4%             "
      ],
      "text/plain": [
       "<IPython.core.display.HTML object>"
      ]
     },
     "metadata": {},
     "output_type": "display_data"
    }
   ],
   "source": [
    "# Terminate run\n",
    "run.finish()"
   ]
  },
  {
   "cell_type": "code",
   "execution_count": null,
   "id": "0af408d4-f037-40dc-9fee-eec55488dbfd",
   "metadata": {},
   "outputs": [],
   "source": []
  }
 ],
 "metadata": {
  "kernelspec": {
   "display_name": "Python 3 (ipykernel)",
   "language": "python",
   "name": "python3"
  },
  "language_info": {
   "codemirror_mode": {
    "name": "ipython",
    "version": 3
   },
   "file_extension": ".py",
   "mimetype": "text/x-python",
   "name": "python",
   "nbconvert_exporter": "python",
   "pygments_lexer": "ipython3",
   "version": "3.10.14"
  }
 },
 "nbformat": 4,
 "nbformat_minor": 5
}
